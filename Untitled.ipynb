{
 "cells": [
  {
   "cell_type": "code",
   "execution_count": 42,
   "id": "e84c6abf-7bed-484c-a48d-c9a412638a1c",
   "metadata": {},
   "outputs": [],
   "source": [
    "import pandas as pd \n",
    "import re\n",
    "import random\n",
    "from joblib import dump, load"
   ]
  },
  {
   "cell_type": "code",
   "execution_count": 47,
   "id": "a5450045-cd53-4ff3-bb81-95c43472440e",
   "metadata": {},
   "outputs": [],
   "source": [
    "subset = 'dev-clean'\n",
    "train_ratio = 0.5\n",
    "subsample = 1"
   ]
  },
  {
   "cell_type": "code",
   "execution_count": 48,
   "id": "de1600ac-1a7d-423c-ac94-50a40bd124b9",
   "metadata": {},
   "outputs": [
    {
     "data": {
      "text/plain": [
       "['probing_split/dev-clean/test_utts']"
      ]
     },
     "execution_count": 48,
     "metadata": {},
     "output_type": "execute_result"
    }
   ],
   "source": [
    "ali = pd.read_csv('LibriSpeech/forced_alignment/%s.ali'%subset, delimiter=' ')\n",
    "ali['spk_id'] = list(map(lambda x: re.match('([0-9]+)-*',x).group(1), ali.utt_id.values))\n",
    "ali['utt_only'] = list(map(lambda x: re.search('-([0-9]+)-*',x).group(1), ali.utt_id.values))\n",
    "spk_list = list(set(ali.spk_id))\n",
    "\n",
    "train_utts = []\n",
    "test_utts = []\n",
    "for spk in set(ali.spk_id.values):\n",
    "    spk_ali = ali[ali.spk_id == spk]\n",
    "    spk_utts = list(set(spk_ali.utt_id))\n",
    "    train_utts.extend(random.sample(spk_utts,int(len(spk_utts)*train_ratio)))\n",
    "test_utts = list(set(ali.utt_id.values) - set(train_utts))\n",
    "\n",
    "dump(train_utts, 'probing_split/%s/train_utts'%subset)\n",
    "dump(test_utts, 'probing_split/%s/test_utts'%subset)"
   ]
  },
  {
   "cell_type": "markdown",
   "id": "040284e3-7880-489c-b365-29cb04bf476b",
   "metadata": {},
   "source": [
    "## probe"
   ]
  },
  {
   "cell_type": "code",
   "execution_count": 34,
   "id": "f651187d-073e-4594-b887-21b6e85712aa",
   "metadata": {},
   "outputs": [],
   "source": [
    "from utils import *"
   ]
  },
  {
   "cell_type": "code",
   "execution_count": 51,
   "id": "e11f6780-2668-40ad-a6d4-fd87cf95454f",
   "metadata": {},
   "outputs": [],
   "source": [
    "feat_direc = 'features/dev-clean/cpc_big/orig'\n",
    "train_utts = load('probing_split/%s/train_utts'%subset)\n",
    "test_utts = load('probing_split/%s/test_utts'%subset)\n",
    "spk_dict = {spk: i for i, spk in enumerate(sorted(spk_list))}\n",
    "ph_dict = {phone: i for i,phone in enumerate(sorted(only_ph))} \n",
    "ph_dict['SIL'] = -1\n",
    "ph_dict['SPN'] = -1"
   ]
  },
  {
   "cell_type": "code",
   "execution_count": 52,
   "id": "f5e64175-817c-489a-894d-e44fa4e28169",
   "metadata": {},
   "outputs": [],
   "source": [
    "\n",
    "\n",
    "def spk_utt_loc(spk_utt_id):\n",
    "    spk, utt_group = re.match('(\\d+)-(\\d+)-\\d+',spk_utt_id).group(1,2)\n",
    "    return spk, '%s/%s/%s.npy' % (spk, utt_group, spk_utt_id)\n",
    "    \n",
    "def load_utt_set(utt_list, frame_rate=100):\n",
    "    '''\n",
    "    return features, speaker, phone labels\n",
    "    '''\n",
    "    utt_feat = []\n",
    "    utt_speaker = []\n",
    "    utt_label = []\n",
    "    utt_phone = []\n",
    "    for utt_id in utt_list:\n",
    "        spk, utt_loc = spk_utt_loc(utt_id)\n",
    "        feat = np.load(feat_direc + '/' + utt_loc)\n",
    "        phone_labels = create_phone_labels(utt_id, len(feat), ali, frame_rate)\n",
    "        utt_feat.extend(list(feat))\n",
    "        utt_speaker.extend([spk_dict[spk]]*len(phone_labels))\n",
    "        utt_phone.extend(phone_labels)\n",
    "        utt_label.extend([ph_dict[ph] for ph in phone_labels])\n",
    "    feat = utt_feat\n",
    "    spk = utt_speaker\n",
    "    phone = utt_phone\n",
    "    label= utt_label\n",
    "    \n",
    "    new_feat = []\n",
    "    new_speaker = []\n",
    "    new_label = []\n",
    "    new_phone = []\n",
    "    for i, ph in enumerate(phone):\n",
    "        if ph not in ['SIL', 'SPN']:\n",
    "            new_feat.append(feat[i])\n",
    "            new_speaker.append(spk[i])\n",
    "            new_label.append(label[i])\n",
    "            new_phone.append(phone[i])\n",
    "    return new_feat, new_speaker, new_label, new_phone\n",
    "    "
   ]
  },
  {
   "cell_type": "code",
   "execution_count": null,
   "id": "8203750f-ddd0-4126-b7c2-ed938246783a",
   "metadata": {},
   "outputs": [],
   "source": []
  }
 ],
 "metadata": {
  "kernelspec": {
   "display_name": "Python 3 (ipykernel)",
   "language": "python",
   "name": "python3"
  },
  "language_info": {
   "codemirror_mode": {
    "name": "ipython",
    "version": 3
   },
   "file_extension": ".py",
   "mimetype": "text/x-python",
   "name": "python",
   "nbconvert_exporter": "python",
   "pygments_lexer": "ipython3",
   "version": "3.9.7"
  }
 },
 "nbformat": 4,
 "nbformat_minor": 5
}
